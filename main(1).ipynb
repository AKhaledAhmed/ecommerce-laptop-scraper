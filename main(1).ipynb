{
 "cells": [
  {
   "cell_type": "code",
   "execution_count": 1,
   "metadata": {},
   "outputs": [],
   "source": [
    "import requests\n",
    "from bs4 import BeautifulSoup\n",
    "import pandas as pd"
   ]
  },
  {
   "cell_type": "code",
   "execution_count": 2,
   "metadata": {},
   "outputs": [],
   "source": [
    "\n",
    "page=requests.get(\"https://webscraper.io/test-sites/e-commerce/allinone/computers/laptops\")"
   ]
  },
  {
   "cell_type": "code",
   "execution_count": 3,
   "metadata": {},
   "outputs": [],
   "source": [
    "\n",
    "soup=BeautifulSoup(page.content,'html.parser')\n",
    "#soup"
   ]
  },
  {
   "cell_type": "code",
   "execution_count": 4,
   "metadata": {},
   "outputs": [],
   "source": [
    "\n",
    "laptops=soup.find_all('div',class_='col-md-4 col-xl-4 col-lg-4')\n",
    "#laptops"
   ]
  },
  {
   "cell_type": "code",
   "execution_count": 5,
   "metadata": {},
   "outputs": [
    {
     "data": {
      "text/html": [
       "<div>\n",
       "<style scoped>\n",
       "    .dataframe tbody tr th:only-of-type {\n",
       "        vertical-align: middle;\n",
       "    }\n",
       "\n",
       "    .dataframe tbody tr th {\n",
       "        vertical-align: top;\n",
       "    }\n",
       "\n",
       "    .dataframe thead th {\n",
       "        text-align: right;\n",
       "    }\n",
       "</style>\n",
       "<table border=\"1\" class=\"dataframe\">\n",
       "  <thead>\n",
       "    <tr style=\"text-align: right;\">\n",
       "      <th></th>\n",
       "      <th>Name</th>\n",
       "      <th>Price</th>\n",
       "      <th>Description</th>\n",
       "    </tr>\n",
       "  </thead>\n",
       "  <tbody>\n",
       "    <tr>\n",
       "      <th>0</th>\n",
       "      <td>Asus VivoBook...</td>\n",
       "      <td>$295.99</td>\n",
       "      <td>Asus VivoBook X441NA-GA190 Chocolate Black, 14...</td>\n",
       "    </tr>\n",
       "    <tr>\n",
       "      <th>1</th>\n",
       "      <td>Prestigio Smar...</td>\n",
       "      <td>$299</td>\n",
       "      <td>Prestigio SmartBook 133S Dark Grey, 13.3\" FHD ...</td>\n",
       "    </tr>\n",
       "    <tr>\n",
       "      <th>2</th>\n",
       "      <td>Prestigio Smar...</td>\n",
       "      <td>$299</td>\n",
       "      <td>Prestigio SmartBook 133S Gold, 13.3\" FHD IPS, ...</td>\n",
       "    </tr>\n",
       "    <tr>\n",
       "      <th>3</th>\n",
       "      <td>Aspire E1-510</td>\n",
       "      <td>$306.99</td>\n",
       "      <td>15.6\", Pentium N3520 2.16GHz, 4GB, 500GB, Linux</td>\n",
       "    </tr>\n",
       "    <tr>\n",
       "      <th>4</th>\n",
       "      <td>Lenovo V110-15...</td>\n",
       "      <td>$321.94</td>\n",
       "      <td>Lenovo V110-15IAP, 15.6\" HD, Celeron N3350 1.1...</td>\n",
       "    </tr>\n",
       "    <tr>\n",
       "      <th>...</th>\n",
       "      <td>...</td>\n",
       "      <td>...</td>\n",
       "      <td>...</td>\n",
       "    </tr>\n",
       "    <tr>\n",
       "      <th>112</th>\n",
       "      <td>Lenovo Legion...</td>\n",
       "      <td>$1399</td>\n",
       "      <td>Lenovo Legion Y720, 15.6\" FHD IPS, Core i7-770...</td>\n",
       "    </tr>\n",
       "    <tr>\n",
       "      <th>113</th>\n",
       "      <td>Asus ROG Strix...</td>\n",
       "      <td>$1399</td>\n",
       "      <td>Asus ROG Strix GL702VM-GC146T, 17.3\" FHD, Core...</td>\n",
       "    </tr>\n",
       "    <tr>\n",
       "      <th>114</th>\n",
       "      <td>Asus ROG Strix...</td>\n",
       "      <td>$1769</td>\n",
       "      <td>Asus ROG Strix GL702ZC-GC154T, 17.3\" FHD, Ryze...</td>\n",
       "    </tr>\n",
       "    <tr>\n",
       "      <th>115</th>\n",
       "      <td>Asus ROG Strix...</td>\n",
       "      <td>$1769</td>\n",
       "      <td>Asus ROG Strix GL702ZC-GC209T, 17.3\" FHD IPS, ...</td>\n",
       "    </tr>\n",
       "    <tr>\n",
       "      <th>116</th>\n",
       "      <td>Asus ROG Strix...</td>\n",
       "      <td>$1799</td>\n",
       "      <td>Asus ROG Strix SCAR Edition GL503VM-ED115T, 15...</td>\n",
       "    </tr>\n",
       "  </tbody>\n",
       "</table>\n",
       "<p>117 rows × 3 columns</p>\n",
       "</div>"
      ],
      "text/plain": [
       "                  Name    Price  \\\n",
       "0     Asus VivoBook...  $295.99   \n",
       "1    Prestigio Smar...     $299   \n",
       "2    Prestigio Smar...     $299   \n",
       "3        Aspire E1-510  $306.99   \n",
       "4    Lenovo V110-15...  $321.94   \n",
       "..                 ...      ...   \n",
       "112   Lenovo Legion...    $1399   \n",
       "113  Asus ROG Strix...    $1399   \n",
       "114  Asus ROG Strix...    $1769   \n",
       "115  Asus ROG Strix...    $1769   \n",
       "116  Asus ROG Strix...    $1799   \n",
       "\n",
       "                                           Description  \n",
       "0    Asus VivoBook X441NA-GA190 Chocolate Black, 14...  \n",
       "1    Prestigio SmartBook 133S Dark Grey, 13.3\" FHD ...  \n",
       "2    Prestigio SmartBook 133S Gold, 13.3\" FHD IPS, ...  \n",
       "3      15.6\", Pentium N3520 2.16GHz, 4GB, 500GB, Linux  \n",
       "4    Lenovo V110-15IAP, 15.6\" HD, Celeron N3350 1.1...  \n",
       "..                                                 ...  \n",
       "112  Lenovo Legion Y720, 15.6\" FHD IPS, Core i7-770...  \n",
       "113  Asus ROG Strix GL702VM-GC146T, 17.3\" FHD, Core...  \n",
       "114  Asus ROG Strix GL702ZC-GC154T, 17.3\" FHD, Ryze...  \n",
       "115  Asus ROG Strix GL702ZC-GC209T, 17.3\" FHD IPS, ...  \n",
       "116  Asus ROG Strix SCAR Edition GL503VM-ED115T, 15...  \n",
       "\n",
       "[117 rows x 3 columns]"
      ]
     },
     "execution_count": 5,
     "metadata": {},
     "output_type": "execute_result"
    }
   ],
   "source": [
    "\n",
    "laptop=[]\n",
    "for i in range(len(laptops)):\n",
    "    name=laptops[i].find('a',class_='title').get_text()\n",
    "    price=laptops[i].find('h4',class_='price').get_text()\n",
    "    description=laptops[i].find('p',class_='description').get_text()\n",
    "    laptop.append([name,price,description])\n",
    "table=pd.DataFrame(laptop,columns=['Name','Price','Description'])\n",
    "table"
   ]
  },
  {
   "cell_type": "code",
   "execution_count": 6,
   "metadata": {},
   "outputs": [],
   "source": [
    "\n",
    "table.to_csv('laptops.csv',index=False)"
   ]
  }
 ],
 "metadata": {
  "kernelspec": {
   "display_name": ".venv",
   "language": "python",
   "name": "python3"
  },
  "language_info": {
   "codemirror_mode": {
    "name": "ipython",
    "version": 3
   },
   "file_extension": ".py",
   "mimetype": "text/x-python",
   "name": "python",
   "nbconvert_exporter": "python",
   "pygments_lexer": "ipython3",
   "version": "3.9.7"
  }
 },
 "nbformat": 4,
 "nbformat_minor": 2
}
